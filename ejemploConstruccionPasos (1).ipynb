{
  "nbformat": 4,
  "nbformat_minor": 0,
  "metadata": {
    "colab": {
      "name": "ejemploConstruccionPasos.ipynb",
      "provenance": [],
      "collapsed_sections": []
    },
    "kernelspec": {
      "name": "python3",
      "display_name": "Python 3"
    },
    "language_info": {
      "name": "python"
    }
  },
  "cells": [
    {
      "cell_type": "code",
      "metadata": {
        "id": "_8ZYHFjzvGjO"
      },
      "source": [
        "import numpy as np\n",
        "import matplotlib.pyplot as plt"
      ],
      "execution_count": null,
      "outputs": []
    },
    {
      "cell_type": "code",
      "metadata": {
        "id": "icGubVLh10k2"
      },
      "source": [
        "# Definimos una función con parámetros, que devuelve una función anónima parametrizada con dichos parámetros\n",
        "def Paso(tSub,tPis):\n",
        "  pendienteSubida = 1/tSub\n",
        "  t1 = tSub\n",
        "  t2 = tSub + tPis\n",
        "  t3 = 2*tSub + tPis\n",
        "  return  lambda t: (t<0)*0 + ((t>=0)&(t<t1))*t*pendienteSubida + ((t>=t1)&(t<t2))*1 + ((t>=t2)&(t<t3))*(1-(t-t2)*pendienteSubida) + (t>=t3)*0"
      ],
      "execution_count": null,
      "outputs": []
    },
    {
      "cell_type": "code",
      "metadata": {
        "id": "dhTmyaSL2zw0"
      },
      "source": [
        "# Definimos una función paso llamando a la función anterior con valores concretos de los parámetros\n",
        "paso = Paso(1,3)"
      ],
      "execution_count": null,
      "outputs": []
    },
    {
      "cell_type": "code",
      "metadata": {
        "colab": {
          "base_uri": "https://localhost:8080/",
          "height": 571
        },
        "id": "AIQLNgPa25yN",
        "outputId": "604ce93e-f3fb-4d52-c830-46c2b133471f"
      },
      "source": [
        "# Utilizamos la función paso\n",
        "t = np.linspace(-1,10,100)\n",
        "print(t)\n",
        "plt.plot(t,paso(t))"
      ],
      "execution_count": null,
      "outputs": [
        {
          "output_type": "stream",
          "text": [
            "[-1.         -0.88888889 -0.77777778 -0.66666667 -0.55555556 -0.44444444\n",
            " -0.33333333 -0.22222222 -0.11111111  0.          0.11111111  0.22222222\n",
            "  0.33333333  0.44444444  0.55555556  0.66666667  0.77777778  0.88888889\n",
            "  1.          1.11111111  1.22222222  1.33333333  1.44444444  1.55555556\n",
            "  1.66666667  1.77777778  1.88888889  2.          2.11111111  2.22222222\n",
            "  2.33333333  2.44444444  2.55555556  2.66666667  2.77777778  2.88888889\n",
            "  3.          3.11111111  3.22222222  3.33333333  3.44444444  3.55555556\n",
            "  3.66666667  3.77777778  3.88888889  4.          4.11111111  4.22222222\n",
            "  4.33333333  4.44444444  4.55555556  4.66666667  4.77777778  4.88888889\n",
            "  5.          5.11111111  5.22222222  5.33333333  5.44444444  5.55555556\n",
            "  5.66666667  5.77777778  5.88888889  6.          6.11111111  6.22222222\n",
            "  6.33333333  6.44444444  6.55555556  6.66666667  6.77777778  6.88888889\n",
            "  7.          7.11111111  7.22222222  7.33333333  7.44444444  7.55555556\n",
            "  7.66666667  7.77777778  7.88888889  8.          8.11111111  8.22222222\n",
            "  8.33333333  8.44444444  8.55555556  8.66666667  8.77777778  8.88888889\n",
            "  9.          9.11111111  9.22222222  9.33333333  9.44444444  9.55555556\n",
            "  9.66666667  9.77777778  9.88888889 10.        ]\n"
          ],
          "name": "stdout"
        },
        {
          "output_type": "execute_result",
          "data": {
            "text/plain": [
              "[<matplotlib.lines.Line2D at 0x7f8d90961350>]"
            ]
          },
          "metadata": {},
          "execution_count": 6
        },
        {
          "output_type": "display_data",
          "data": {
            "image/png": "[encoded data removed]",
            "text/plain": [
              "<Figure size 432x288 with 1 Axes>"
            ]
          },
          "metadata": {
            "needs_background": "light"
          }
        }
      ]
    },
    {
      "cell_type": "code",
      "metadata": {
        "id": "-XaWC8zr5Fus",
        "colab": {
          "base_uri": "https://localhost:8080/"
        },
        "outputId": "dc057c4b-653c-4142-ba6f-a7be540c6d7a"
      },
      "source": [
        "# Para definir una secuencia multipaso, definimos primero una lista de tiempos de comienzo de cada paso\n",
        "t0 = np.arange(5,90,15)\n",
        "print(t0)\n",
        "t0 = t0 + 3*np.random.random(t0.shape)\n",
        "print(t0)\n",
        "t = np.linspace(0,100,500)\n",
        "# Mapeamos una función paso con retraso sobre la lista de tiempos de inicio y sumamos entre sí los pasos devueltos \n",
        "pasos = sum(map(lambda tIni: paso(t-tIni), t0))\n",
        "print(pasos)"
      ],
      "execution_count": null,
      "outputs": [
        {
          "output_type": "stream",
          "text": [
            "[ 5 20 35 50 65 80]\n",
            "[ 7.48454124 22.42982319 36.21785808 50.77442975 67.43506834 80.6500705 ]\n",
            "[0.         0.         0.         0.         0.         0.\n",
            " 0.         0.         0.         0.         0.         0.\n",
            " 0.         0.         0.         0.         0.         0.\n",
            " 0.         0.         0.         0.         0.         0.\n",
            " 0.         0.         0.         0.         0.         0.\n",
            " 0.         0.         0.         0.         0.         0.\n",
            " 0.         0.         0.13068922 0.33109002 0.53149082 0.73189163\n",
            " 0.93229243 1.         1.         1.         1.         1.\n",
            " 1.         1.         1.         1.         1.         1.\n",
            " 1.         1.         1.         1.         0.86129475 0.66089395\n",
            " 0.46049314 0.26009234 0.05969154 0.         0.         0.\n",
            " 0.         0.         0.         0.         0.         0.\n",
            " 0.         0.         0.         0.         0.         0.\n",
            " 0.         0.         0.         0.         0.         0.\n",
            " 0.         0.         0.         0.         0.         0.\n",
            " 0.         0.         0.         0.         0.         0.\n",
            " 0.         0.         0.         0.         0.         0.\n",
            " 0.         0.         0.         0.         0.         0.\n",
            " 0.         0.         0.         0.         0.01506659 0.21546739\n",
            " 0.41586819 0.616269   0.8166698  1.         1.         1.\n",
            " 1.         1.         1.         1.         1.         1.\n",
            " 1.         1.         1.         1.         1.         1.\n",
            " 0.97691738 0.77651658 0.57611577 0.37571497 0.17531417 0.\n",
            " 0.         0.         0.         0.         0.         0.\n",
            " 0.         0.         0.         0.         0.         0.\n",
            " 0.         0.         0.         0.         0.         0.\n",
            " 0.         0.         0.         0.         0.         0.\n",
            " 0.         0.         0.         0.         0.         0.\n",
            " 0.         0.         0.         0.         0.         0.\n",
            " 0.         0.         0.         0.         0.         0.\n",
            " 0.         0.05468701 0.25508781 0.45548861 0.65588941 0.85629022\n",
            " 1.         1.         1.         1.         1.         1.\n",
            " 1.         1.         1.         1.         1.         1.\n",
            " 1.         1.         1.         0.93729696 0.73689616 0.53649536\n",
            " 0.33609455 0.13569375 0.         0.         0.         0.\n",
            " 0.         0.         0.         0.         0.         0.\n",
            " 0.         0.         0.         0.         0.         0.\n",
            " 0.         0.         0.         0.         0.         0.\n",
            " 0.         0.         0.         0.         0.         0.\n",
            " 0.         0.         0.         0.         0.         0.\n",
            " 0.         0.         0.         0.         0.         0.\n",
            " 0.         0.         0.         0.         0.         0.\n",
            " 0.         0.         0.12737385 0.32777466 0.52817546 0.72857626\n",
            " 0.92897706 1.         1.         1.         1.         1.\n",
            " 1.         1.         1.         1.         1.         1.\n",
            " 1.         1.         1.         1.         0.86461011 0.66420931\n",
            " 0.46380851 0.26340771 0.06300691 0.         0.         0.\n",
            " 0.         0.         0.         0.         0.         0.\n",
            " 0.         0.         0.         0.         0.         0.\n",
            " 0.         0.         0.         0.         0.         0.\n",
            " 0.         0.         0.         0.         0.         0.\n",
            " 0.         0.         0.         0.         0.         0.\n",
            " 0.         0.         0.         0.         0.         0.\n",
            " 0.         0.         0.         0.         0.         0.\n",
            " 0.         0.         0.         0.         0.         0.\n",
            " 0.         0.         0.         0.         0.         0.\n",
            " 0.         0.1000018  0.3004026  0.5008034  0.70120421 0.90160501\n",
            " 1.         1.         1.         1.         1.         1.\n",
            " 1.         1.         1.         1.         1.         1.\n",
            " 1.         1.         1.         0.89198217 0.69158137 0.49118056\n",
            " 0.29077976 0.09037896 0.         0.         0.         0.\n",
            " 0.         0.         0.         0.         0.         0.\n",
            " 0.         0.         0.         0.         0.         0.\n",
            " 0.         0.         0.         0.         0.         0.\n",
            " 0.         0.         0.         0.         0.         0.\n",
            " 0.         0.         0.         0.         0.         0.\n",
            " 0.         0.         0.         0.         0.         0.\n",
            " 0.         0.11145255 0.31185335 0.51225415 0.71265495 0.91305575\n",
            " 1.         1.         1.         1.         1.         1.\n",
            " 1.         1.         1.         1.         1.         1.\n",
            " 1.         1.         1.         0.88053142 0.68013062 0.47972982\n",
            " 0.27932901 0.07892821 0.         0.         0.         0.\n",
            " 0.         0.         0.         0.         0.         0.\n",
            " 0.         0.         0.         0.         0.         0.\n",
            " 0.         0.         0.         0.         0.         0.\n",
            " 0.         0.         0.         0.         0.         0.\n",
            " 0.         0.         0.         0.         0.         0.\n",
            " 0.         0.         0.         0.         0.         0.\n",
            " 0.         0.         0.         0.         0.         0.\n",
            " 0.         0.         0.         0.         0.         0.\n",
            " 0.         0.         0.         0.         0.         0.\n",
            " 0.         0.         0.         0.         0.         0.\n",
            " 0.         0.         0.         0.         0.         0.\n",
            " 0.         0.        ]\n"
          ],
          "name": "stdout"
        }
      ]
    },
    {
      "cell_type": "code",
      "metadata": {
        "id": "Aq1CH8HM_7YF"
      },
      "source": [
        "plt.plot(t,pasos)"
      ],
      "execution_count": null,
      "outputs": []
    }
  ]
}